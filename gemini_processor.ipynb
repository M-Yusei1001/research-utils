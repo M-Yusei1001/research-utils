{
 "cells": [
  {
   "cell_type": "code",
   "execution_count": 1,
   "metadata": {},
   "outputs": [],
   "source": [
    "import os\n",
    "import google.generativeai as genai\n",
    "from dotenv import load_dotenv\n",
    "\n",
    "load_dotenv()\n",
    "\n",
    "genai.configure(api_key=os.environ[\"GEMINI_API_KEY\"])"
   ]
  },
  {
   "cell_type": "code",
   "execution_count": 2,
   "metadata": {},
   "outputs": [],
   "source": [
    "# Create the model\n",
    "generation_config = {\n",
    "    \"temperature\": 1,\n",
    "    \"top_p\": 0.95,\n",
    "    \"top_k\": 40,\n",
    "    \"max_output_tokens\": 8192,\n",
    "    \"response_mime_type\": \"text/plain\",\n",
    "}\n",
    "\n",
    "model = genai.GenerativeModel(\n",
    "    model_name=\"gemini-2.0-flash-exp\",\n",
    "    generation_config=generation_config,\n",
    ")"
   ]
  },
  {
   "cell_type": "code",
   "execution_count": 3,
   "metadata": {},
   "outputs": [],
   "source": [
    "chat_session = model.start_chat(history=[])"
   ]
  },
  {
   "cell_type": "code",
   "execution_count": 44,
   "metadata": {},
   "outputs": [],
   "source": [
    "prompt = \"\"\"\n",
    "### 指示 ###\n",
    "あなたは製品の事故原因を分析しています。\n",
    "事故の通知内容から、被害の様子を単純に説明してください。\n",
    "回答形式はJSON形式です。\n",
    "\n",
    "### 回答形式 ###\n",
    "{\n",
    "\t\"被害\":\"回答\"\n",
    "}\n",
    "\n",
    "### 注意事項 ###\n",
    "- 指示された回答のみ出力してください。\n",
    "- 被害の様子を最もよく説明する単語のみで回答してください。\n",
    "- 被害は複数回答してもかまいません。その場合、配列で記述してください。\n",
    "- 解説は不要です。\n",
    "\n",
    "### 例 ###\n",
    "事故の通知内容:\n",
    "カセットこんろの五徳付プレートを洗っていたところ、指が切れ、第一関節裏側を2針縫った。\n",
    "\n",
    "回答:\n",
    "{\n",
    "\t\"被害\":\"裂傷\"\n",
    "}\n",
    "\n",
    "### 例の解説 ###\n",
    "「指が切れ」という記述から、「裂傷」を負ったと判断できます。\n",
    "\n",
    "### 事故の通知内容 ###\n",
    "\"\"\""
   ]
  },
  {
   "cell_type": "code",
   "execution_count": 5,
   "metadata": {},
   "outputs": [],
   "source": [
    "import pandas as pd\n",
    "import json"
   ]
  },
  {
   "cell_type": "code",
   "execution_count": 46,
   "metadata": {},
   "outputs": [],
   "source": [
    "data = pd.read_csv(\"data/output/gemini/prompt_data/ミキサー.csv\")"
   ]
  },
  {
   "cell_type": "code",
   "execution_count": 41,
   "metadata": {},
   "outputs": [
    {
     "name": "stdout",
     "output_type": "stream",
     "text": [
      "\n",
      "### 指示 ###\n",
      "あなたは製品の事故原因を分析しています。\n",
      "事故の通知内容から、被害の様子を単純に説明してください。\n",
      "回答形式はJSON形式です。\n",
      "\n",
      "### 回答形式 ###\n",
      "{\n",
      "\t\"被害\":\"回答\"\n",
      "}\n",
      "\n",
      "### 注意事項 ###\n",
      "- 指示された回答のみ出力してください。\n",
      "- 被害の様子を最もよく説明する単語のみで回答してください。\n",
      "- 被害は複数回答してもかまいません。その場合、配列で記述してください。\n",
      "- 解説は不要です。\n",
      "\n",
      "### 例 ###\n",
      "事故の通知内容:\n",
      "カセットこんろの五徳付プレートを洗っていたところ、指が切れ、第一関節裏側を2針縫った。\n",
      "\n",
      "回答:\n",
      "{\n",
      "\t\"被害\":\"裂傷\"\n",
      "}\n",
      "\n",
      "### 例の解説 ###\n",
      "「指が切れ」という記述から、「裂傷」を負ったと判断できます。\n",
      "\n",
      "### 事故の通知内容 ###\n",
      "ハンドミキサーを使用して卵と砂糖を泡立てていたところ、泡立て金具が1本破損して指にあたった。\n"
     ]
    }
   ],
   "source": [
    "input_prompt = prompt + data[\"事故通知内容\"].values[0]\n",
    "print(input_prompt)"
   ]
  },
  {
   "cell_type": "code",
   "execution_count": 12,
   "metadata": {},
   "outputs": [
    {
     "name": "stdout",
     "output_type": "stream",
     "text": [
      "{\n",
      "\t\"被害\":[\"圧痕\",\"破断\"]\n",
      "}\n",
      "\n"
     ]
    }
   ],
   "source": [
    "response = chat_session.send_message(input_prompt)\n",
    "print(response.text)"
   ]
  },
  {
   "cell_type": "code",
   "execution_count": 14,
   "metadata": {},
   "outputs": [
    {
     "name": "stdout",
     "output_type": "stream",
     "text": [
      "圧痕\n",
      "破断\n"
     ]
    }
   ],
   "source": [
    "res = json.loads(response.text)\n",
    "for text in res[\"被害\"]:\n",
    "    print(text)"
   ]
  },
  {
   "cell_type": "code",
   "execution_count": 15,
   "metadata": {},
   "outputs": [],
   "source": [
    "output_text = \"\"\n",
    "for text in res[\"被害\"]:\n",
    "    output_text += text + \" \"\n",
    "data[\"事故通知内容\"].values[0] = output_text"
   ]
  },
  {
   "cell_type": "code",
   "execution_count": 16,
   "metadata": {},
   "outputs": [
    {
     "name": "stdout",
     "output_type": "stream",
     "text": [
      "圧痕 破断 \n"
     ]
    }
   ],
   "source": [
    "print(data[\"事故通知内容\"].values[0])"
   ]
  },
  {
   "cell_type": "code",
   "execution_count": 17,
   "metadata": {},
   "outputs": [],
   "source": [
    "from tqdm.notebook import tqdm\n",
    "import time"
   ]
  },
  {
   "cell_type": "code",
   "execution_count": 47,
   "metadata": {},
   "outputs": [
    {
     "data": {
      "application/vnd.jupyter.widget-view+json": {
       "model_id": "f4a5687b33544f3cb679a0239abcb8fc",
       "version_major": 2,
       "version_minor": 0
      },
      "text/plain": [
       "  0%|          | 0/19 [00:00<?, ?it/s]"
      ]
     },
     "metadata": {},
     "output_type": "display_data"
    }
   ],
   "source": [
    "for i in tqdm(range(0, len(data))):\n",
    "    input_prompt = prompt + data[\"事故通知内容\"].values[i]\n",
    "    response = chat_session.send_message(input_prompt)\n",
    "    temp = response.text\n",
    "    if \"```json\" in temp:\n",
    "        temp = temp.replace(\"```json\", \"\")\n",
    "        temp = temp.replace(\"```\", \"\")\n",
    "    try:\n",
    "        res = json.loads(temp)\n",
    "    except Exception as e:\n",
    "        print(\"Error\", e, temp)\n",
    "        continue\n",
    "    output_text = \"\"\n",
    "    for text in res[\"被害\"]:\n",
    "        output_text += text + \" \"\n",
    "    data[\"事故通知内容\"].values[i] = output_text\n",
    "    time.sleep(5)"
   ]
  },
  {
   "cell_type": "code",
   "execution_count": 48,
   "metadata": {},
   "outputs": [],
   "source": [
    "prompt = \"\"\"\n",
    "### 指示 ###\n",
    "あなたは製品の事故原因を分析しています。\n",
    "事故の内容から、事故の原因を単純に説明してください。\n",
    "回答形式はJSON形式です。\n",
    "\n",
    "### 回答形式 ###\n",
    "{\n",
    "\t\"原因\":\"回答\"\n",
    "}\n",
    "\n",
    "### 注意事項 ###\n",
    "- 指示された回答のみ出力してください。\n",
    "- 事故の原因を最もよく説明する単語のみで回答してください。\n",
    "- 原因は複数回答してもかまいません。その場合、配列で記述してください。\n",
    "- 解説は不要です。\n",
    "\n",
    "### 例 ###\n",
    "事故の内容:\n",
    "五徳付プレートの外側の縁が処理されておらず、多少ざらついていることから、素手でプレートを洗っていた際に、外側の縁に指を強く擦りつけたため、負傷したものと推定される。なお、取扱説明書には「手、指の保護のため、必ずゴム手袋などを使用してください。」との注意が記載されている。\n",
    "\n",
    "回答:\n",
    "{\n",
    "\t\"原因\":[\"縁\",\"接触\"]\n",
    "}\n",
    "\n",
    "### 例の解説 ###\n",
    "「縁に指を強く擦りつけた」という記述から、「縁」、「接触」が原因であると判断できます。\n",
    "\n",
    "### 事故の内容 ###\n",
    "\"\"\""
   ]
  },
  {
   "cell_type": "code",
   "execution_count": 49,
   "metadata": {},
   "outputs": [
    {
     "data": {
      "application/vnd.jupyter.widget-view+json": {
       "model_id": "71d622bc13d64cdb9243b4d54b0f0bf4",
       "version_major": 2,
       "version_minor": 0
      },
      "text/plain": [
       "  0%|          | 0/19 [00:00<?, ?it/s]"
      ]
     },
     "metadata": {},
     "output_type": "display_data"
    }
   ],
   "source": [
    "for i in tqdm(range(0, len(data))):\n",
    "    input_prompt = prompt + data[\"事故原因\"].values[i]\n",
    "    response = chat_session.send_message(input_prompt)\n",
    "    temp = response.text\n",
    "    if \"```json\" in temp:\n",
    "        temp = temp.replace(\"```json\", \"\")\n",
    "        temp = temp.replace(\"```\", \"\")\n",
    "    try:\n",
    "        res = json.loads(temp)\n",
    "    except Exception as e:\n",
    "        print(\"Error\", e, temp)\n",
    "        continue\n",
    "    output_text = \"\"\n",
    "    for text in res[\"原因\"]:\n",
    "        output_text += text + \" \"\n",
    "    data[\"事故原因\"].values[i] = output_text\n",
    "    time.sleep(5)"
   ]
  },
  {
   "cell_type": "code",
   "execution_count": 50,
   "metadata": {},
   "outputs": [
    {
     "name": "stdout",
     "output_type": "stream",
     "text": [
      "      No  事故通知内容          事故原因\n",
      "0    576  破損 接触   圧搾機 圧痕 金属疲労 \n",
      "1   2797    切 創         誤 操 作 \n",
      "2   4253    切 創        電源 誤操作 \n",
      "3  12164  発煙 異臭         過 負 荷 \n",
      "4  22370    混 入       金型 金属疲労 \n"
     ]
    }
   ],
   "source": [
    "print(data.head())"
   ]
  },
  {
   "cell_type": "code",
   "execution_count": 51,
   "metadata": {},
   "outputs": [],
   "source": [
    "data.to_csv(\"data/output/gemini/responses/ミキサー_res.csv\", index=False)"
   ]
  }
 ],
 "metadata": {
  "kernelspec": {
   "display_name": ".venv",
   "language": "python",
   "name": "python3"
  },
  "language_info": {
   "codemirror_mode": {
    "name": "ipython",
    "version": 3
   },
   "file_extension": ".py",
   "mimetype": "text/x-python",
   "name": "python",
   "nbconvert_exporter": "python",
   "pygments_lexer": "ipython3",
   "version": "3.12.7"
  }
 },
 "nbformat": 4,
 "nbformat_minor": 2
}
