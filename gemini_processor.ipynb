{
 "cells": [
  {
   "cell_type": "code",
   "execution_count": 28,
   "metadata": {},
   "outputs": [],
   "source": [
    "import os\n",
    "import google.generativeai as genai\n",
    "from dotenv import load_dotenv\n",
    "\n",
    "load_dotenv()\n",
    "\n",
    "genai.configure(api_key=os.environ[\"GEMINI_API_KEY\"])"
   ]
  },
  {
   "cell_type": "code",
   "execution_count": 29,
   "metadata": {},
   "outputs": [],
   "source": [
    "# Create the model\n",
    "generation_config = {\n",
    "    \"temperature\": 1,\n",
    "    \"top_p\": 0.95,\n",
    "    \"top_k\": 40,\n",
    "    \"max_output_tokens\": 8192,\n",
    "    \"response_mime_type\": \"text/plain\",\n",
    "}\n",
    "\n",
    "model = genai.GenerativeModel(\n",
    "    model_name=\"gemini-2.0-flash-exp\",\n",
    "    generation_config=generation_config,\n",
    ")\n",
    "\n",
    "chat_session = model.start_chat(history=[])"
   ]
  },
  {
   "cell_type": "code",
   "execution_count": 30,
   "metadata": {},
   "outputs": [],
   "source": [
    "from tqdm.notebook import tqdm\n",
    "import time\n",
    "import logging\n",
    "\n",
    "logger = logging.getLogger(__name__)\n",
    "\n",
    "def localtime_to_str():\n",
    "    return time.strftime('%Y-%m-%d_%H-%M-%S', time.localtime())\n",
    "\n",
    "logging.basicConfig(\n",
    "    filename=f\"data/output/gemini/log/gemini_{localtime_to_str()}.log\", \n",
    "    encoding=\"utf-8\",\n",
    "    level=logging.DEBUG\n",
    "    )"
   ]
  },
  {
   "cell_type": "code",
   "execution_count": 31,
   "metadata": {},
   "outputs": [],
   "source": [
    "prompt_condition_of_the_incident = \"\"\"\n",
    "### 指示 ###\n",
    "あなたは製品の事故原因を分析しています。\n",
    "事故の通知内容から、被害の様子を単純に説明してください。\n",
    "回答形式はJSON形式です。\n",
    "\n",
    "### 回答形式 ###\n",
    "{\n",
    "\t\"被害\":\"回答\"\n",
    "}\n",
    "\n",
    "### 注意事項 ###\n",
    "- 指示された回答のみ出力してください。\n",
    "- 被害の様子を最もよく説明する単語のみで回答してください。\n",
    "- 被害は複数回答してもかまいません。その場合、配列で記述してください。\n",
    "- 解説は不要です。\n",
    "\n",
    "### 例 ###\n",
    "事故の通知内容:\n",
    "カセットこんろの五徳付プレートを洗っていたところ、指が切れ、第一関節裏側を2針縫った。\n",
    "\n",
    "回答:\n",
    "{\n",
    "\t\"被害\":\"裂傷\"\n",
    "}\n",
    "\n",
    "### 例の解説 ###\n",
    "「指が切れ」という記述から、「裂傷」を負ったと判断できます。\n",
    "\n",
    "### 事故の通知内容 ###\n",
    "\"\"\""
   ]
  },
  {
   "cell_type": "code",
   "execution_count": 32,
   "metadata": {},
   "outputs": [],
   "source": [
    "prompt_cause_of_the_incident = \"\"\"\n",
    "### 指示 ###\n",
    "あなたは製品の事故原因を分析しています。\n",
    "事故の内容から、事故の原因を単純に説明してください。\n",
    "回答形式はJSON形式です。\n",
    "\n",
    "### 回答形式 ###\n",
    "{\n",
    "\t\"原因\":\"回答\"\n",
    "}\n",
    "\n",
    "### 注意事項 ###\n",
    "- 指示された回答のみ出力してください。\n",
    "- 事故の原因を最もよく説明する単語のみで回答してください。\n",
    "- 原因は複数回答してもかまいません。その場合、配列で記述してください。\n",
    "- 解説は不要です。\n",
    "\n",
    "### 例 ###\n",
    "事故の内容:\n",
    "五徳付プレートの外側の縁が処理されておらず、多少ざらついていることから、素手でプレートを洗っていた際に、外側の縁に指を強く擦りつけたため、負傷したものと推定される。なお、取扱説明書には「手、指の保護のため、必ずゴム手袋などを使用してください。」との注意が記載されている。\n",
    "\n",
    "回答:\n",
    "{\n",
    "\t\"原因\":[\"縁\",\"接触\"]\n",
    "}\n",
    "\n",
    "### 例の解説 ###\n",
    "「縁に指を強く擦りつけた」という記述から、「縁」、「接触」が原因であると判断できます。\n",
    "\n",
    "### 事故の内容 ###\n",
    "\"\"\""
   ]
  },
  {
   "cell_type": "code",
   "execution_count": 33,
   "metadata": {},
   "outputs": [],
   "source": [
    "import pandas as pd\n",
    "import json"
   ]
  },
  {
   "cell_type": "code",
   "execution_count": 34,
   "metadata": {},
   "outputs": [],
   "source": [
    "def generate_json_response(\n",
    "        prompt:str, \n",
    "        data:pd.DataFrame, \n",
    "        response_name:str, \n",
    "        chat_session:genai.ChatSession,\n",
    "        request_interval:int=6\n",
    "        ) -> None:\n",
    "    for i in tqdm(range(0, len(data))):\n",
    "        input_prompt = prompt + data.values[i]\n",
    "        try:\n",
    "            response = chat_session.send_message(input_prompt)\n",
    "            temp = response.text\n",
    "            if \"```json\" in temp:\n",
    "                temp = temp.replace(\"```json\", \"\")\n",
    "                temp = temp.replace(\"```\", \"\")\n",
    "            res = json.loads(temp)\n",
    "            logger.debug(temp)\n",
    "        except Exception as e:\n",
    "            logger.error(\"Error\", e, temp)\n",
    "            continue\n",
    "        output_text = \"\"\n",
    "        if isinstance(res[response_name], list):\n",
    "            for text in res[response_name]:\n",
    "                output_text += text + \" \"\n",
    "        else:\n",
    "            output_text = res[response_name]\n",
    "        logger.debug(f\"Output: {output_text}\")\n",
    "        data.values[i] = output_text\n",
    "        time.sleep(request_interval)"
   ]
  },
  {
   "cell_type": "code",
   "execution_count": 35,
   "metadata": {},
   "outputs": [],
   "source": [
    "import settings as st"
   ]
  },
  {
   "cell_type": "code",
   "execution_count": 36,
   "metadata": {},
   "outputs": [],
   "source": [
    "def processor(product:str)->None:\n",
    "    data = pd.read_csv(f\"data/output/gemini/prompt_data/{product}.csv\")\n",
    "    generate_json_response(\n",
    "        prompt=prompt_condition_of_the_incident, \n",
    "        data=data[\"事故通知内容\"], \n",
    "        response_name=\"被害\", \n",
    "        chat_session=chat_session\n",
    "        )\n",
    "    generate_json_response(\n",
    "        prompt=prompt_cause_of_the_incident, \n",
    "        data=data[\"事故原因\"], \n",
    "        response_name=\"原因\", \n",
    "        chat_session=chat_session\n",
    "        )\n",
    "    print(data.head())\n",
    "    data.to_csv(f\"data/output/gemini/responses/{product}_res.csv\", index=False)"
   ]
  },
  {
   "cell_type": "code",
   "execution_count": 37,
   "metadata": {},
   "outputs": [
    {
     "data": {
      "application/vnd.jupyter.widget-view+json": {
       "model_id": "8412f2ed519349fa8c0b67caa006dc16",
       "version_major": 2,
       "version_minor": 0
      },
      "text/plain": [
       "  0%|          | 0/104 [00:00<?, ?it/s]"
      ]
     },
     "metadata": {},
     "output_type": "display_data"
    },
    {
     "data": {
      "application/vnd.jupyter.widget-view+json": {
       "model_id": "53780c20c80c4591ae277208c05b8cae",
       "version_major": 2,
       "version_minor": 0
      },
      "text/plain": [
       "  0%|          | 0/104 [00:00<?, ?it/s]"
      ]
     },
     "metadata": {},
     "output_type": "display_data"
    },
    {
     "name": "stdout",
     "output_type": "stream",
     "text": [
      "      No        事故通知内容            事故原因\n",
      "0    413            火傷          高温 接触 \n",
      "1    607            焦げ  はんだ不良 スパーク 発熱 \n",
      "2   8933  熱傷 発煙 溶解 異臭        はんだ不良 発熱 \n",
      "3  20931            熱傷          高温 接触 \n",
      "4  21078            焦げ     IC不良 通電 発熱 \n"
     ]
    }
   ],
   "source": [
    "processor(st.products_test[2])"
   ]
  }
 ],
 "metadata": {
  "kernelspec": {
   "display_name": ".venv",
   "language": "python",
   "name": "python3"
  },
  "language_info": {
   "codemirror_mode": {
    "name": "ipython",
    "version": 3
   },
   "file_extension": ".py",
   "mimetype": "text/x-python",
   "name": "python",
   "nbconvert_exporter": "python",
   "pygments_lexer": "ipython3",
   "version": "3.12.7"
  }
 },
 "nbformat": 4,
 "nbformat_minor": 2
}
