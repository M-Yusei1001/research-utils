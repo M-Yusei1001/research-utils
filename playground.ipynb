{
 "cells": [
  {
   "cell_type": "code",
   "execution_count": 12,
   "metadata": {},
   "outputs": [],
   "source": [
    "import pandas as pd\n",
    "from tqdm.notebook import tqdm"
   ]
  },
  {
   "cell_type": "code",
   "execution_count": 13,
   "metadata": {},
   "outputs": [],
   "source": [
    "data = pd.read_csv(f\"data/output/gemini/prompt_data/扇風機.csv\")"
   ]
  },
  {
   "cell_type": "code",
   "execution_count": 14,
   "metadata": {},
   "outputs": [
    {
     "name": "stdout",
     "output_type": "stream",
     "text": [
      "    No                                             事故通知内容  \\\n",
      "0   67  耐火構造4階建て住宅の2階で、居室のタンスの上で使用していた扇風機付近から出火し、壁、タンス...   \n",
      "1   82  2階から異臭がするので確認したところ、扇風機が焼損し床、窓枠下部や壁装クロスの一部が焦げてい...   \n",
      "2  430  扇風機を使い始めてしばらくして異常に気付き、スイッチを切った。その際、手を火傷したため台所で...   \n",
      "3  468  扇風機の上下風向きを変えようと、ガードの上部を持ったところ中指が回転中の羽根に当たり、擦り傷...   \n",
      "4  469  台所の足元で使っていた扇風機の首振りボタンを人差し指で押そうとしたところ、親指が後部のガード...   \n",
      "\n",
      "                                                事故原因  \n",
      "0  事故品は、焼損が著しく、モーター、首振り機構の金属支柱及び配線の一部が残存するのみであったが...  \n",
      "1  内部配線に使用しているケーブルの芯線の素線の撚り合わせが均一でないため、ケーブルの屈曲性能が...  \n",
      "2  モータの巻線むらによって過電流が流れたか若しくは、モータの巻線のピンホールによる非絶縁部が重...  \n",
      "3  扇風機を首振り状態で使用中に、首の上下角度をガードを持って調整しようとしたところ、被害者が予...  \n",
      "4  背面ガード針金の1本が内側へ曲がって羽根に接触し、2枚の羽根が破損しており、ガード部分の強度...  \n"
     ]
    }
   ],
   "source": [
    "print(data.head())"
   ]
  },
  {
   "cell_type": "code",
   "execution_count": 15,
   "metadata": {},
   "outputs": [
    {
     "name": "stdout",
     "output_type": "stream",
     "text": [
      "耐火構造4階建て住宅の2階で、居室のタンスの上で使用していた扇風機付近から出火し、壁、タンス等の一部を焼いた。\n"
     ]
    },
    {
     "data": {
      "text/plain": [
       "str"
      ]
     },
     "execution_count": 15,
     "metadata": {},
     "output_type": "execute_result"
    }
   ],
   "source": [
    "print(data.loc[0, \"事故通知内容\"])\n",
    "type(data.loc[0, \"事故通知内容\"])"
   ]
  },
  {
   "cell_type": "code",
   "execution_count": 16,
   "metadata": {},
   "outputs": [],
   "source": [
    "global former_data\n",
    "former_data = \"\""
   ]
  },
  {
   "cell_type": "code",
   "execution_count": 17,
   "metadata": {},
   "outputs": [
    {
     "data": {
      "application/vnd.jupyter.widget-view+json": {
       "model_id": "547ab188cbf6456b92e64d680665b55e",
       "version_major": 2,
       "version_minor": 0
      },
      "text/plain": [
       "  0%|          | 0/247 [00:00<?, ?it/s]"
      ]
     },
     "metadata": {},
     "output_type": "display_data"
    },
    {
     "name": "stdout",
     "output_type": "stream",
     "text": [
      "121, 126\n"
     ]
    }
   ],
   "source": [
    "skip_count = 0\n",
    "not_skip_count = 0\n",
    "temp = data[\"事故通知内容\"]\n",
    "\n",
    "for i in tqdm(range(len(data))):\n",
    "    global former_data\n",
    "    if temp[i] == former_data:\n",
    "        skip_count += 1\n",
    "        continue\n",
    "    former_data = temp[i]\n",
    "    not_skip_count += 1\n",
    "\n",
    "print(f\"{skip_count}, {not_skip_count}\")"
   ]
  }
 ],
 "metadata": {
  "kernelspec": {
   "display_name": ".venv",
   "language": "python",
   "name": "python3"
  },
  "language_info": {
   "codemirror_mode": {
    "name": "ipython",
    "version": 3
   },
   "file_extension": ".py",
   "mimetype": "text/x-python",
   "name": "python",
   "nbconvert_exporter": "python",
   "pygments_lexer": "ipython3",
   "version": "3.12.7"
  }
 },
 "nbformat": 4,
 "nbformat_minor": 2
}
