{
 "cells": [
  {
   "cell_type": "code",
   "execution_count": 1,
   "metadata": {},
   "outputs": [
    {
     "name": "stderr",
     "output_type": "stream",
     "text": [
      "c:\\Users\\chika\\Documents\\VSCode\\research-utils\\.venv\\Lib\\site-packages\\tqdm\\auto.py:21: TqdmWarning: IProgress not found. Please update jupyter and ipywidgets. See https://ipywidgets.readthedocs.io/en/stable/user_install.html\n",
      "  from .autonotebook import tqdm as notebook_tqdm\n"
     ]
    }
   ],
   "source": [
    "import os\n",
    "import google.generativeai as genai\n",
    "from dotenv import load_dotenv\n",
    "\n",
    "load_dotenv()\n",
    "\n",
    "genai.configure(api_key=os.environ[\"GEMINI_API_KEY\"])"
   ]
  },
  {
   "cell_type": "code",
   "execution_count": 2,
   "metadata": {},
   "outputs": [],
   "source": [
    "# Create the model\n",
    "generation_config = {\n",
    "    \"temperature\": 1,\n",
    "    \"top_p\": 0.95,\n",
    "    \"top_k\": 40,\n",
    "    \"max_output_tokens\": 8192,\n",
    "    \"response_mime_type\": \"text/plain\",\n",
    "}\n",
    "\n",
    "model = genai.GenerativeModel(\n",
    "    model_name=\"gemini-2.0-flash-exp\",\n",
    "    generation_config=generation_config,\n",
    ")"
   ]
  },
  {
   "cell_type": "code",
   "execution_count": 13,
   "metadata": {},
   "outputs": [],
   "source": [
    "history = []\n",
    "chat_session = model.start_chat(history=history)"
   ]
  },
  {
   "cell_type": "code",
   "execution_count": 14,
   "metadata": {},
   "outputs": [],
   "source": [
    "response = chat_session.send_message(\"こんにちは！\")"
   ]
  },
  {
   "cell_type": "code",
   "execution_count": 15,
   "metadata": {},
   "outputs": [
    {
     "name": "stdout",
     "output_type": "stream",
     "text": [
      "こんにちは！何かお手伝いできることはありますか？ 😊\n",
      "\n"
     ]
    }
   ],
   "source": [
    "print(response.text)"
   ]
  },
  {
   "cell_type": "code",
   "execution_count": 22,
   "metadata": {},
   "outputs": [],
   "source": [
    "instruction = \"住宅1階台所で、カセットこんろのボンベが爆発し、窓ガラスや天井の一部が破損して、女性1名が両腕などに火傷を負って入院した。\"\n",
    "\n",
    "prompt = \"\"\"\n",
    "### 指示 ###\n",
    "あなたは製品の事故原因を分析しています。\n",
    "事故の通知内容から、被害の様子を単純に説明してください。\n",
    "回答形式はJSON形式です。\n",
    "\n",
    "### 回答形式 ###\n",
    "{\n",
    "\t\"被害\":\"回答\"\n",
    "}\n",
    "\n",
    "### 注意事項 ###\n",
    "- 指示された回答のみ出力してください。\n",
    "- 被害の様子を最もよく説明する単語のみで回答してください。\n",
    "- 被害は複数回答してもかまいません。その場合、配列で記述してください。\n",
    "- 解説は不要です。\n",
    "\n",
    "### 例 ###\n",
    "事故の通知内容:\n",
    "カセットこんろの五徳付プレートを洗っていたところ、指が切れ、第一関節裏側を2針縫った。\n",
    "\n",
    "回答:\n",
    "{\n",
    "\t\"被害\":\"裂傷\"\n",
    "}\n",
    "\n",
    "### 例の解説 ###\n",
    "「指が切れ」という記述から、「裂傷」を負ったと判断できます。\n",
    "\n",
    "### 事故の通知内容 ###\n",
    "\"\"\"\n",
    "\n",
    "prompt = prompt + \"\\r\" + instruction"
   ]
  },
  {
   "cell_type": "code",
   "execution_count": 23,
   "metadata": {},
   "outputs": [
    {
     "name": "stdout",
     "output_type": "stream",
     "text": [
      "```json\n",
      "{\n",
      "  \"被害\": [\"火傷\", \"破損\"]\n",
      "}\n",
      "```\n",
      "\n"
     ]
    }
   ],
   "source": [
    "response = chat_session.send_message(prompt)\n",
    "print(response.text)"
   ]
  }
 ],
 "metadata": {
  "kernelspec": {
   "display_name": ".venv",
   "language": "python",
   "name": "python3"
  },
  "language_info": {
   "codemirror_mode": {
    "name": "ipython",
    "version": 3
   },
   "file_extension": ".py",
   "mimetype": "text/x-python",
   "name": "python",
   "nbconvert_exporter": "python",
   "pygments_lexer": "ipython3",
   "version": "3.12.7"
  }
 },
 "nbformat": 4,
 "nbformat_minor": 2
}
