{
 "cells": [
  {
   "cell_type": "code",
   "execution_count": 15,
   "id": "35740f92",
   "metadata": {},
   "outputs": [],
   "source": [
    "import pandas as pd\n",
    "import tqdm "
   ]
  },
  {
   "cell_type": "code",
   "execution_count": 81,
   "id": "4fb65099",
   "metadata": {},
   "outputs": [
    {
     "data": {
      "text/html": [
       "<div>\n",
       "<style scoped>\n",
       "    .dataframe tbody tr th:only-of-type {\n",
       "        vertical-align: middle;\n",
       "    }\n",
       "\n",
       "    .dataframe tbody tr th {\n",
       "        vertical-align: top;\n",
       "    }\n",
       "\n",
       "    .dataframe thead th {\n",
       "        text-align: right;\n",
       "    }\n",
       "</style>\n",
       "<table border=\"1\" class=\"dataframe\">\n",
       "  <thead>\n",
       "    <tr style=\"text-align: right;\">\n",
       "      <th></th>\n",
       "      <th>年度番号</th>\n",
       "      <th>事故発生日</th>\n",
       "      <th>品名</th>\n",
       "      <th>型式機種</th>\n",
       "      <th>事業者名</th>\n",
       "      <th>被害の種類</th>\n",
       "      <th>事故通知内容</th>\n",
       "      <th>製品の使用期間</th>\n",
       "      <th>事故原因</th>\n",
       "      <th>事故原因区分</th>\n",
       "      <th>再発防止措置</th>\n",
       "      <th>事故通知者</th>\n",
       "      <th>事故受付日</th>\n",
       "      <th>品目</th>\n",
       "    </tr>\n",
       "  </thead>\n",
       "  <tbody>\n",
       "    <tr>\n",
       "      <th>0</th>\n",
       "      <td>2003-0835</td>\n",
       "      <td>2003/08/09</td>\n",
       "      <td>キックスケーター</td>\n",
       "      <td>ＳＰＥＥＤ</td>\n",
       "      <td>（株）サンスジャパン</td>\n",
       "      <td>5.製品破損</td>\n",
       "      <td>購入後、２～３回走行したところ、デッキ部とハンドル部の接合部分が外れた。</td>\n",
       "      <td>約1月</td>\n",
       "      <td>溶接のスピードが速すぎたため、溶け込み不良で強度が不足し、溶接部が外れたものと推定される。</td>\n",
       "      <td>Ａ２</td>\n",
       "      <td>平成１５年１０月輸入分から、溶接の作業時間を延長して接合部分を強化し、輸出前の検品を強化し...</td>\n",
       "      <td>消費者センター</td>\n",
       "      <td>2003/09/04</td>\n",
       "      <td>08 レジャー用品</td>\n",
       "    </tr>\n",
       "    <tr>\n",
       "      <th>1</th>\n",
       "      <td>2003-0832</td>\n",
       "      <td>2003/08/26</td>\n",
       "      <td>草刈機</td>\n",
       "      <td>NaN</td>\n",
       "      <td>NaN</td>\n",
       "      <td>1.死亡</td>\n",
       "      <td>植林地で草刈り機を使って草刈り作業をしていた男性が、右大腿部を切断して死亡した。</td>\n",
       "      <td>不明</td>\n",
       "      <td>警察の調査では、被害者が急斜面で草刈り機を使用中にバランスを崩し、誤って右大腿部を切断した...</td>\n",
       "      <td>Ｅ２</td>\n",
       "      <td>製造業者等は不明であり、被害者の不注意とみられる事故であるため、特に措置はとらなかった。</td>\n",
       "      <td>製品評価技術基盤機構</td>\n",
       "      <td>2003/09/04</td>\n",
       "      <td>04 家具・住宅用品</td>\n",
       "    </tr>\n",
       "    <tr>\n",
       "      <th>2</th>\n",
       "      <td>2003-0831</td>\n",
       "      <td>2003/09/01</td>\n",
       "      <td>ガスこんろ（都市ガス用）</td>\n",
       "      <td>NaN</td>\n",
       "      <td>NaN</td>\n",
       "      <td>3.軽傷</td>\n",
       "      <td>飲食店で、ラードを加熱していた鍋から火が上がった。消火作業中に天井から換気扇が落下し、１名...</td>\n",
       "      <td>不明</td>\n",
       "      <td>消防の調査では、店員が調理中ガスこんろの火をつけたままその場を離れたため、鍋で加熱していた...</td>\n",
       "      <td>Ｅ２</td>\n",
       "      <td>製造業者等は不明であり、使用者の不注意とみられる事故であるため、措置はとらなかった。</td>\n",
       "      <td>製品評価技術基盤機構</td>\n",
       "      <td>2003/09/04</td>\n",
       "      <td>03 燃焼器具</td>\n",
       "    </tr>\n",
       "    <tr>\n",
       "      <th>3</th>\n",
       "      <td>2003-0827</td>\n",
       "      <td>2003/05/12</td>\n",
       "      <td>介護ベッド（電動式）【その他の電気機械器具付家具】</td>\n",
       "      <td>キューマアウラベッドＫＱ－６０２</td>\n",
       "      <td>パラマウントベッド（株）</td>\n",
       "      <td>2.重傷</td>\n",
       "      <td>使用者が手元スイッチの背上げボタンを押していたところ、ボタンから指を放してもベッドが作動し...</td>\n",
       "      <td>約4年</td>\n",
       "      <td>繰返しのスイッチ操作により手指の分泌物・ハンドクリーム等の成分がスイッチのボタン部から内部...</td>\n",
       "      <td>Ａ１</td>\n",
       "      <td>平成１５年８月２７日付けの新聞に社告を掲載し、取引先への通知並びにインターネットにおける情...</td>\n",
       "      <td>製造事業者</td>\n",
       "      <td>2003/09/03</td>\n",
       "      <td>01 家庭用電気製品</td>\n",
       "    </tr>\n",
       "    <tr>\n",
       "      <th>4</th>\n",
       "      <td>2003-0826</td>\n",
       "      <td>2003/05/17</td>\n",
       "      <td>介護ベッド（電動式）【その他の電気機械器具付家具】</td>\n",
       "      <td>キューマアウラベッドＫＱ－６０２</td>\n",
       "      <td>パラマウントベッド（株）</td>\n",
       "      <td>2.重傷</td>\n",
       "      <td>電動ベッドを使用中に、手元スイッチを操作していない状態でベッドが作動し、背ボトムと膝ボトム...</td>\n",
       "      <td>約4年</td>\n",
       "      <td>繰返しのスイッチ操作により手指の分泌物・ハンドクリーム等の成分がスイッチのボタン部から内部...</td>\n",
       "      <td>Ａ１</td>\n",
       "      <td>平成１５年８月２７日付けの新聞に社告を掲載し、取引先への通知並びにインターネットにおける情...</td>\n",
       "      <td>製造事業者</td>\n",
       "      <td>2003/09/03</td>\n",
       "      <td>01 家庭用電気製品</td>\n",
       "    </tr>\n",
       "  </tbody>\n",
       "</table>\n",
       "</div>"
      ],
      "text/plain": [
       "        年度番号       事故発生日                         品名              型式機種  \\\n",
       "0  2003-0835  2003/08/09                   キックスケーター             ＳＰＥＥＤ   \n",
       "1  2003-0832  2003/08/26                        草刈機               NaN   \n",
       "2  2003-0831  2003/09/01               ガスこんろ（都市ガス用）               NaN   \n",
       "3  2003-0827  2003/05/12  介護ベッド（電動式）【その他の電気機械器具付家具】  キューマアウラベッドＫＱ－６０２   \n",
       "4  2003-0826  2003/05/17  介護ベッド（電動式）【その他の電気機械器具付家具】  キューマアウラベッドＫＱ－６０２   \n",
       "\n",
       "           事業者名   被害の種類                                             事故通知内容  \\\n",
       "0    （株）サンスジャパン  5.製品破損              　購入後、２～３回走行したところ、デッキ部とハンドル部の接合部分が外れた。   \n",
       "1           NaN    1.死亡          　植林地で草刈り機を使って草刈り作業をしていた男性が、右大腿部を切断して死亡した。   \n",
       "2           NaN    3.軽傷  　飲食店で、ラードを加熱していた鍋から火が上がった。消火作業中に天井から換気扇が落下し、１名...   \n",
       "3  パラマウントベッド（株）    2.重傷  　使用者が手元スイッチの背上げボタンを押していたところ、ボタンから指を放してもベッドが作動し...   \n",
       "4  パラマウントベッド（株）    2.重傷  　電動ベッドを使用中に、手元スイッチを操作していない状態でベッドが作動し、背ボトムと膝ボトム...   \n",
       "\n",
       "  製品の使用期間                                               事故原因 事故原因区分  \\\n",
       "0     約1月     　溶接のスピードが速すぎたため、溶け込み不良で強度が不足し、溶接部が外れたものと推定される。     Ａ２   \n",
       "1      不明  　警察の調査では、被害者が急斜面で草刈り機を使用中にバランスを崩し、誤って右大腿部を切断した...     Ｅ２   \n",
       "2      不明  　消防の調査では、店員が調理中ガスこんろの火をつけたままその場を離れたため、鍋で加熱していた...     Ｅ２   \n",
       "3     約4年  　繰返しのスイッチ操作により手指の分泌物・ハンドクリーム等の成分がスイッチのボタン部から内部...     Ａ１   \n",
       "4     約4年  　繰返しのスイッチ操作により手指の分泌物・ハンドクリーム等の成分がスイッチのボタン部から内部...     Ａ１   \n",
       "\n",
       "                                              再発防止措置       事故通知者       事故受付日  \\\n",
       "0  　平成１５年１０月輸入分から、溶接の作業時間を延長して接合部分を強化し、輸出前の検品を強化し...     消費者センター  2003/09/04   \n",
       "1      　製造業者等は不明であり、被害者の不注意とみられる事故であるため、特に措置はとらなかった。  製品評価技術基盤機構  2003/09/04   \n",
       "2        　製造業者等は不明であり、使用者の不注意とみられる事故であるため、措置はとらなかった。  製品評価技術基盤機構  2003/09/04   \n",
       "3  　平成１５年８月２７日付けの新聞に社告を掲載し、取引先への通知並びにインターネットにおける情...       製造事業者  2003/09/03   \n",
       "4  　平成１５年８月２７日付けの新聞に社告を掲載し、取引先への通知並びにインターネットにおける情...       製造事業者  2003/09/03   \n",
       "\n",
       "           品目  \n",
       "0   08 レジャー用品  \n",
       "1  04 家具・住宅用品  \n",
       "2     03 燃焼器具  \n",
       "3  01 家庭用電気製品  \n",
       "4  01 家庭用電気製品  "
      ]
     },
     "execution_count": 81,
     "metadata": {},
     "output_type": "execute_result"
    }
   ],
   "source": [
    "filename = \"J20250829142736\"\n",
    "data = pd.read_csv(f\"../data/{filename}.csv\")\n",
    "data.head()"
   ]
  },
  {
   "cell_type": "code",
   "execution_count": 82,
   "id": "94b66f0f",
   "metadata": {},
   "outputs": [],
   "source": [
    "import unicodedata\n",
    "def normalize_text(text):\n",
    "    text = unicodedata.normalize(\"NFKC\", text)\n",
    "    return text"
   ]
  },
  {
   "cell_type": "code",
   "execution_count": 83,
   "id": "d1951154",
   "metadata": {},
   "outputs": [
    {
     "name": "stderr",
     "output_type": "stream",
     "text": [
      "  0%|          | 0/14 [00:00<?, ?it/s]"
     ]
    },
    {
     "name": "stderr",
     "output_type": "stream",
     "text": [
      "100%|██████████| 14/14 [00:02<00:00,  6.10it/s]"
     ]
    },
    {
     "name": "stdout",
     "output_type": "stream",
     "text": [
      "正規化完了\n"
     ]
    },
    {
     "name": "stderr",
     "output_type": "stream",
     "text": [
      "\n"
     ]
    }
   ],
   "source": [
    "def normalize_dataframe(df):\n",
    "    \"\"\"\n",
    "    DataFrameの各セルに対してUnicode正規化（NFKC）を適用する\n",
    "    \n",
    "    Args:\n",
    "        df (pd.DataFrame): 正規化対象のDataFrame\n",
    "    \n",
    "    Returns:\n",
    "        pd.DataFrame: 正規化されたDataFrame\n",
    "    \"\"\"\n",
    "    # DataFrameをコピーして元データを保持\n",
    "    normalized_df = df.copy()\n",
    "    \n",
    "    # 各列に対して処理\n",
    "    for column in tqdm.tqdm(normalized_df.columns):\n",
    "        # 文字列型の列のみ処理\n",
    "        if normalized_df[column].dtype == 'object':\n",
    "            normalized_df[column] = normalized_df[column].apply(\n",
    "                lambda x: normalize_text(str(x)) if pd.notna(x) else x\n",
    "            )\n",
    "    \n",
    "    return normalized_df\n",
    "\n",
    "# データの正規化を実行\n",
    "normalized_data = normalize_dataframe(data)\n",
    "print(\"正規化完了\")"
   ]
  },
  {
   "cell_type": "code",
   "execution_count": 84,
   "id": "796c2072",
   "metadata": {},
   "outputs": [
    {
     "name": "stdout",
     "output_type": "stream",
     "text": [
      "処理完了\n"
     ]
    }
   ],
   "source": [
    "import re \n",
    "\n",
    "# 品名から括弧を除去し、余分な空白も削除\n",
    "def clean_product_name(text):\n",
    "    if pd.isna(text):\n",
    "        return text\n",
    "    \n",
    "    # 文字列に変換\n",
    "    text = str(text)\n",
    "    \n",
    "    # 丸括弧を削除\n",
    "    text = re.sub(r\"\\(.*?\\)\", \"\", text)\n",
    "    \n",
    "    # 角括弧を削除\n",
    "    text = re.sub(r\"【.*?】\", \"\", text)\n",
    "    \n",
    "    # 余分な空白を削除（連続する空白を単一の空白に変換し、前後の空白を削除）\n",
    "    text = re.sub(r\"\\s+\", \" \", text).strip()\n",
    "    \n",
    "    return text\n",
    "\n",
    "# 品目列を作成（括弧除去処理）\n",
    "normalized_data[\"品名\"] = normalized_data[\"品名\"].apply(clean_product_name)\n",
    "\n",
    "print(\"処理完了\")"
   ]
  },
  {
   "cell_type": "code",
   "execution_count": 74,
   "id": "e5087d17",
   "metadata": {},
   "outputs": [
    {
     "name": "stdout",
     "output_type": "stream",
     "text": [
      "保存しました: J20250829142736_normalized.csv\n"
     ]
    }
   ],
   "source": [
    "# 正規化されたデータを新しいCSVファイルとして保存\n",
    "output_filename = f\"{filename}_normalized.csv\"\n",
    "normalized_data.to_csv(f\"../data/{output_filename}\", index=False, encoding='utf-8')\n",
    "print(f\"保存しました: {output_filename}\")"
   ]
  },
  {
   "cell_type": "code",
   "execution_count": 89,
   "id": "5de85502",
   "metadata": {},
   "outputs": [
    {
     "data": {
      "text/html": [
       "<div>\n",
       "<style scoped>\n",
       "    .dataframe tbody tr th:only-of-type {\n",
       "        vertical-align: middle;\n",
       "    }\n",
       "\n",
       "    .dataframe tbody tr th {\n",
       "        vertical-align: top;\n",
       "    }\n",
       "\n",
       "    .dataframe thead th {\n",
       "        text-align: right;\n",
       "    }\n",
       "</style>\n",
       "<table border=\"1\" class=\"dataframe\">\n",
       "  <thead>\n",
       "    <tr style=\"text-align: right;\">\n",
       "      <th></th>\n",
       "      <th>事故発生日</th>\n",
       "      <th>品名</th>\n",
       "      <th>被害の種類</th>\n",
       "      <th>事故通知内容</th>\n",
       "      <th>製品の使用期間</th>\n",
       "      <th>事故原因</th>\n",
       "      <th>事故原因区分</th>\n",
       "      <th>再発防止措置</th>\n",
       "      <th>品目</th>\n",
       "    </tr>\n",
       "  </thead>\n",
       "  <tbody>\n",
       "    <tr>\n",
       "      <th>0</th>\n",
       "      <td>2003/08/09</td>\n",
       "      <td>キックスケーター</td>\n",
       "      <td>[製品破損]</td>\n",
       "      <td>購入後、2~3回走行したところ、デッキ部とハンドル部の接合部分が外れた。</td>\n",
       "      <td>約1月</td>\n",
       "      <td>溶接のスピードが速すぎたため、溶け込み不良で強度が不足し、溶接部が外れたものと推定される。</td>\n",
       "      <td>A2</td>\n",
       "      <td>平成15年10月輸入分から、溶接の作業時間を延長して接合部分を強化し、輸出前の検品を強化し...</td>\n",
       "      <td>08 レジャー用品</td>\n",
       "    </tr>\n",
       "    <tr>\n",
       "      <th>1</th>\n",
       "      <td>2003/08/26</td>\n",
       "      <td>草刈機</td>\n",
       "      <td>[死亡]</td>\n",
       "      <td>植林地で草刈り機を使って草刈り作業をしていた男性が、右大腿部を切断して死亡した。</td>\n",
       "      <td>不明</td>\n",
       "      <td>警察の調査では、被害者が急斜面で草刈り機を使用中にバランスを崩し、誤って右大腿部を切断した...</td>\n",
       "      <td>E2</td>\n",
       "      <td>製造業者等は不明であり、被害者の不注意とみられる事故であるため、特に措置はとらなかった。</td>\n",
       "      <td>04 家具・住宅用品</td>\n",
       "    </tr>\n",
       "    <tr>\n",
       "      <th>2</th>\n",
       "      <td>2003/09/01</td>\n",
       "      <td>ガスこんろ</td>\n",
       "      <td>[軽傷]</td>\n",
       "      <td>飲食店で、ラードを加熱していた鍋から火が上がった。消火作業中に天井から換気扇が落下し、1名...</td>\n",
       "      <td>不明</td>\n",
       "      <td>消防の調査では、店員が調理中ガスこんろの火をつけたままその場を離れたため、鍋で加熱していた...</td>\n",
       "      <td>E2</td>\n",
       "      <td>製造業者等は不明であり、使用者の不注意とみられる事故であるため、措置はとらなかった。</td>\n",
       "      <td>03 燃焼器具</td>\n",
       "    </tr>\n",
       "    <tr>\n",
       "      <th>3</th>\n",
       "      <td>2003/05/12</td>\n",
       "      <td>介護ベッド</td>\n",
       "      <td>[重傷]</td>\n",
       "      <td>使用者が手元スイッチの背上げボタンを押していたところ、ボタンから指を放してもベッドが作動し...</td>\n",
       "      <td>約4年</td>\n",
       "      <td>繰返しのスイッチ操作により手指の分泌物・ハンドクリーム等の成分がスイッチのボタン部から内部...</td>\n",
       "      <td>A1</td>\n",
       "      <td>平成15年8月27日付けの新聞に社告を掲載し、取引先への通知並びにインターネットにおける情...</td>\n",
       "      <td>01 家庭用電気製品</td>\n",
       "    </tr>\n",
       "    <tr>\n",
       "      <th>4</th>\n",
       "      <td>2003/05/17</td>\n",
       "      <td>介護ベッド</td>\n",
       "      <td>[重傷]</td>\n",
       "      <td>電動ベッドを使用中に、手元スイッチを操作していない状態でベッドが作動し、背ボトムと膝ボトム...</td>\n",
       "      <td>約4年</td>\n",
       "      <td>繰返しのスイッチ操作により手指の分泌物・ハンドクリーム等の成分がスイッチのボタン部から内部...</td>\n",
       "      <td>A1</td>\n",
       "      <td>平成15年8月27日付けの新聞に社告を掲載し、取引先への通知並びにインターネットにおける情...</td>\n",
       "      <td>01 家庭用電気製品</td>\n",
       "    </tr>\n",
       "  </tbody>\n",
       "</table>\n",
       "</div>"
      ],
      "text/plain": [
       "        事故発生日        品名   被害の種類  \\\n",
       "0  2003/08/09  キックスケーター  [製品破損]   \n",
       "1  2003/08/26       草刈機    [死亡]   \n",
       "2  2003/09/01     ガスこんろ    [軽傷]   \n",
       "3  2003/05/12     介護ベッド    [重傷]   \n",
       "4  2003/05/17     介護ベッド    [重傷]   \n",
       "\n",
       "                                              事故通知内容 製品の使用期間  \\\n",
       "0               購入後、2~3回走行したところ、デッキ部とハンドル部の接合部分が外れた。     約1月   \n",
       "1           植林地で草刈り機を使って草刈り作業をしていた男性が、右大腿部を切断して死亡した。      不明   \n",
       "2   飲食店で、ラードを加熱していた鍋から火が上がった。消火作業中に天井から換気扇が落下し、1名...      不明   \n",
       "3   使用者が手元スイッチの背上げボタンを押していたところ、ボタンから指を放してもベッドが作動し...     約4年   \n",
       "4   電動ベッドを使用中に、手元スイッチを操作していない状態でベッドが作動し、背ボトムと膝ボトム...     約4年   \n",
       "\n",
       "                                                事故原因 事故原因区分  \\\n",
       "0      溶接のスピードが速すぎたため、溶け込み不良で強度が不足し、溶接部が外れたものと推定される。     A2   \n",
       "1   警察の調査では、被害者が急斜面で草刈り機を使用中にバランスを崩し、誤って右大腿部を切断した...     E2   \n",
       "2   消防の調査では、店員が調理中ガスこんろの火をつけたままその場を離れたため、鍋で加熱していた...     E2   \n",
       "3   繰返しのスイッチ操作により手指の分泌物・ハンドクリーム等の成分がスイッチのボタン部から内部...     A1   \n",
       "4   繰返しのスイッチ操作により手指の分泌物・ハンドクリーム等の成分がスイッチのボタン部から内部...     A1   \n",
       "\n",
       "                                              再発防止措置          品目  \n",
       "0   平成15年10月輸入分から、溶接の作業時間を延長して接合部分を強化し、輸出前の検品を強化し...   08 レジャー用品  \n",
       "1       製造業者等は不明であり、被害者の不注意とみられる事故であるため、特に措置はとらなかった。  04 家具・住宅用品  \n",
       "2         製造業者等は不明であり、使用者の不注意とみられる事故であるため、措置はとらなかった。     03 燃焼器具  \n",
       "3   平成15年8月27日付けの新聞に社告を掲載し、取引先への通知並びにインターネットにおける情...  01 家庭用電気製品  \n",
       "4   平成15年8月27日付けの新聞に社告を掲載し、取引先への通知並びにインターネットにおける情...  01 家庭用電気製品  "
      ]
     },
     "execution_count": 89,
     "metadata": {},
     "output_type": "execute_result"
    }
   ],
   "source": [
    "normalized_data.head()"
   ]
  },
  {
   "cell_type": "code",
   "execution_count": 76,
   "id": "59c15223",
   "metadata": {},
   "outputs": [
    {
     "data": {
      "text/plain": [
       "品名\n",
       "ガスこんろ      2547\n",
       "石油ストーブ     1841\n",
       "電気ストーブ     1837\n",
       "ACアダプター    1686\n",
       "洗面化粧台      1505\n",
       "           ... \n",
       "末端閉止弁         1\n",
       "乾燥剤           1\n",
       "レンジ台          1\n",
       "灯油窯           1\n",
       "ガス用配管継手       1\n",
       "Name: count, Length: 1247, dtype: int64"
      ]
     },
     "execution_count": 76,
     "metadata": {},
     "output_type": "execute_result"
    }
   ],
   "source": [
    "normalized_data[\"品名\"].value_counts()"
   ]
  },
  {
   "cell_type": "code",
   "execution_count": 85,
   "id": "667967da",
   "metadata": {},
   "outputs": [],
   "source": [
    "drop_cols = [\"年度番号\", \"型式機種\", \"事業者名\", \"事故通知者\", \"事故受付日\"]"
   ]
  },
  {
   "cell_type": "code",
   "execution_count": 86,
   "id": "aec83f1e",
   "metadata": {},
   "outputs": [],
   "source": [
    "normalized_data = normalized_data.drop(columns=drop_cols)"
   ]
  },
  {
   "cell_type": "code",
   "execution_count": null,
   "id": "fa46d308",
   "metadata": {},
   "outputs": [
    {
     "name": "stdout",
     "output_type": "stream",
     "text": [
      "処理完了\n"
     ]
    }
   ],
   "source": [
    "# カテゴリを配列として抽出する関数\n",
    "def extract_damage_categories(text):\n",
    "    \"\"\"\n",
    "    被害の種類から、すべてのカテゴリを配列として抽出\n",
    "    例: \"死亡:11.火災:12.CO中毒\" -> [\"死亡\", \"火災\", \"CO中毒\"]\n",
    "    例: \"1.死亡\" -> [\"死亡\"]\n",
    "    \"\"\"\n",
    "    if pd.isna(text):\n",
    "        return []\n",
    "    \n",
    "    # 文字列に変換\n",
    "    text = str(text)\n",
    "\n",
    "    # カテゴリを分割\n",
    "    parts = text.split(':')\n",
    "\n",
    "    categories = []\n",
    "    for part in parts:\n",
    "        part = part.strip()\n",
    "        # カテゴリを取得\n",
    "        if '.' in part:\n",
    "            category = part.split('.', 1)[1].strip()\n",
    "            # 重複回避\n",
    "            if category and category not in categories:\n",
    "                categories.append(category)\n",
    "        else:\n",
    "            # ピリオドがない場合はそのまま追加（既に処理済みの可能性）\n",
    "            if part and part not in categories:\n",
    "                categories.append(part.strip())\n",
    "    \n",
    "    return categories\n",
    "\n",
    "# すべてのカテゴリを配列として抽出\n",
    "if \"被害の種類\" in normalized_data.columns:\n",
    "    normalized_data[\"被害の種類\"] = normalized_data[\"被害の種類\"].apply(extract_damage_categories)\n",
    "    print(\"処理完了\")    \n",
    "else:\n",
    "    print(\"エラー: '被害の種類'列が見つかりません\")"
   ]
  },
  {
   "cell_type": "code",
   "execution_count": 88,
   "id": "2e4c2aa1",
   "metadata": {},
   "outputs": [
    {
     "data": {
      "text/plain": [
       "被害の種類\n",
       "[製品破損]                17228\n",
       "[拡大被害]                 8605\n",
       "[軽傷]                   7729\n",
       "[火災]                   2102\n",
       "[重傷]                   1300\n",
       "[死亡]                    931\n",
       "[被害なし]                  732\n",
       "[CO中毒]                   43\n",
       "[死亡, 火災]                 42\n",
       "[重傷, 火災]                 25\n",
       "[死亡, CO中毒]               19\n",
       "[死亡, 火災, CO中毒]            5\n",
       "[死亡, 重傷, 火災]              4\n",
       "[死亡, 重傷, CO中毒]            2\n",
       "[死亡, 重傷, 火災, CO中毒]        2\n",
       "[火災, CO中毒]                2\n",
       "Name: count, dtype: int64"
      ]
     },
     "execution_count": 88,
     "metadata": {},
     "output_type": "execute_result"
    }
   ],
   "source": [
    "normalized_data[\"被害の種類\"].value_counts()"
   ]
  },
  {
   "cell_type": "code",
   "execution_count": 91,
   "id": "7804a4d9",
   "metadata": {},
   "outputs": [
    {
     "name": "stdout",
     "output_type": "stream",
     "text": [
      "処理完了\n"
     ]
    }
   ],
   "source": [
    "def extract_product_categories(text):\n",
    "\n",
    "    if pd.isna(text):\n",
    "        return []\n",
    "    \n",
    "    # 文字列に変換\n",
    "    text = str(text)\n",
    "\n",
    "    # カテゴリを取得\n",
    "    if ' ' in text:\n",
    "        category = text.split(' ', 1)[1].strip()\n",
    "\n",
    "    return category\n",
    "\n",
    "if \"品目\" in normalized_data.columns:\n",
    "    normalized_data[\"品目\"] = normalized_data[\"品目\"].apply(extract_product_categories)\n",
    "    print(\"処理完了\")    \n",
    "else:\n",
    "    print(\"エラー: '品目'列が見つかりません\")"
   ]
  },
  {
   "cell_type": "code",
   "execution_count": 92,
   "id": "cafd221e",
   "metadata": {},
   "outputs": [
    {
     "data": {
      "text/plain": [
       "品目\n",
       "家庭用電気製品    17146\n",
       "燃焼器具        8911\n",
       "家具・住宅用品     3875\n",
       "身のまわり品      3470\n",
       "乗物・乗物用品     1628\n",
       "乳幼児用品       1396\n",
       "台所・食卓用品      871\n",
       "レジャー用品       688\n",
       "保健衛生用品       434\n",
       "繊維製品         319\n",
       "その他           33\n",
       "Name: count, dtype: int64"
      ]
     },
     "execution_count": 92,
     "metadata": {},
     "output_type": "execute_result"
    }
   ],
   "source": [
    "normalized_data[\"品目\"].value_counts()"
   ]
  },
  {
   "cell_type": "code",
   "execution_count": 93,
   "id": "41ab280d",
   "metadata": {},
   "outputs": [
    {
     "name": "stdout",
     "output_type": "stream",
     "text": [
      "保存しました: J20250829142736_processed.csv\n"
     ]
    }
   ],
   "source": [
    "# CSVファイルとして保存\n",
    "normalized_data.to_csv(f\"../data/{filename}_processed.csv\", index=False, encoding='utf-8')\n",
    "print(f\"保存しました: {filename}_processed.csv\")"
   ]
  }
 ],
 "metadata": {
  "kernelspec": {
   "display_name": ".venv",
   "language": "python",
   "name": "python3"
  },
  "language_info": {
   "codemirror_mode": {
    "name": "ipython",
    "version": 3
   },
   "file_extension": ".py",
   "mimetype": "text/x-python",
   "name": "python",
   "nbconvert_exporter": "python",
   "pygments_lexer": "ipython3",
   "version": "3.13.7"
  }
 },
 "nbformat": 4,
 "nbformat_minor": 5
}
