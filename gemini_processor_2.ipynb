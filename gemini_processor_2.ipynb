{
 "cells": [
  {
   "cell_type": "code",
   "execution_count": 1,
   "metadata": {},
   "outputs": [],
   "source": [
    "import os\n",
    "import datetime\n",
    "import google.generativeai as genai\n",
    "from dotenv import load_dotenv\n",
    "from tqdm.notebook import tqdm\n",
    "import time\n",
    "import logging\n",
    "\n",
    "logger = logging.getLogger(__name__)\n",
    "\n",
    "def localtime_to_str():\n",
    "    return time.strftime('%Y-%m-%d_%H-%M-%S', time.localtime())\n",
    "\n",
    "logging.basicConfig(\n",
    "    filename=f\"data/output/gemini/log/gemini_{localtime_to_str()}.log\", \n",
    "    encoding=\"utf-8\",\n",
    "    level=logging.DEBUG\n",
    "    )\n",
    "\n",
    "load_dotenv()\n",
    "\n",
    "genai.configure(api_key=os.environ[\"GEMINI_API_KEY\"])\n",
    "\n",
    "def create_dir(base_dir=\"data/output/gemini/responses\") -> str:\n",
    "    \"\"\"\n",
    "    指定したベースディレクトリに、日付と連番を組み合わせた名称のディレクトリを作成する。\n",
    "    既に同名のディレクトリが存在する場合、連番をインクリメントして新たなディレクトリを作成する。\n",
    "\n",
    "    Args:\n",
    "        base_dir: ベースとなるディレクトリのパス (デフォルト: \"data/output/gemini/responses\")\n",
    "\n",
    "    Returns:\n",
    "        str: 作成されたディレクトリの相対パス\n",
    "    \"\"\"\n",
    "\n",
    "    today = datetime.date.today().strftime(\"%Y%m%d\")\n",
    "    num = 1\n",
    "\n",
    "    while True:\n",
    "        dir_name = f\"{base_dir}/{today}_{num:03d}\"  # 連番を3桁で表示\n",
    "        try:\n",
    "            if not os.path.exists(dir_name):\n",
    "                os.makedirs(dir_name)\n",
    "                return dir_name\n",
    "            num += 1\n",
    "        except OSError as e:\n",
    "            print(f\"ディレクトリ作成中にエラーが発生しました: {e}\")"
   ]
  },
  {
   "cell_type": "code",
   "execution_count": 2,
   "metadata": {},
   "outputs": [],
   "source": [
    "# Create the model\n",
    "generation_config = {\n",
    "    \"temperature\": 1,\n",
    "    \"top_p\": 0.95,\n",
    "    \"top_k\": 40,\n",
    "    \"max_output_tokens\": 8192,\n",
    "    \"response_mime_type\": \"text/plain\",\n",
    "}\n",
    "\n",
    "model = genai.GenerativeModel(\n",
    "    model_name=\"gemini-2.0-flash-exp\",\n",
    "    generation_config=generation_config,\n",
    ")\n",
    "\n",
    "chat_session = model.start_chat(history=[])"
   ]
  },
  {
   "cell_type": "code",
   "execution_count": 3,
   "metadata": {},
   "outputs": [],
   "source": [
    "prompt_cause_of_the_incident = \"\"\"\n",
    "### 指示 ###\n",
    "あなたは製品の事故原因を分析しています。\n",
    "事故の内容から、事故の原因を単純に説明してください。\n",
    "回答形式はJSON形式です。\n",
    "\n",
    "### 回答形式 ###\n",
    "{\n",
    "\t\"原因\":\"回答\"\n",
    "}\n",
    "\n",
    "### 注意事項 ###\n",
    "- 指示された回答のみ出力してください。\n",
    "- 事故の原因を最もよく説明する単語のみで回答してください。\n",
    "- 原因は複数回答してもかまいません。その場合、配列で記述してください。\n",
    "- 解説は不要です。\n",
    "\n",
    "### 例 ###\n",
    "事故の内容:\n",
    "五徳付プレートの外側の縁が処理されておらず、多少ざらついていることから、素手でプレートを洗っていた際に、外側の縁に指を強く擦りつけたため、負傷したものと推定される。なお、取扱説明書には「手、指の保護のため、必ずゴム手袋などを使用してください。」との注意が記載されている。\n",
    "\n",
    "回答:\n",
    "{\n",
    "\t\"原因\":[\"縁\",\"接触\"]\n",
    "}\n",
    "\n",
    "### 例の解説 ###\n",
    "「縁に指を強く擦りつけた」という記述から、「縁」、「接触」が原因であると判断できます。\n",
    "\n",
    "### 事故の内容 ###\n",
    "\"\"\""
   ]
  },
  {
   "cell_type": "code",
   "execution_count": 4,
   "metadata": {},
   "outputs": [],
   "source": [
    "import pandas as pd\n",
    "import json"
   ]
  },
  {
   "cell_type": "code",
   "execution_count": 5,
   "metadata": {},
   "outputs": [],
   "source": [
    "global former_data\n",
    "former_data = \"\""
   ]
  },
  {
   "cell_type": "code",
   "execution_count": 6,
   "metadata": {},
   "outputs": [],
   "source": [
    "def generate_json_response(\n",
    "        prompt:str, \n",
    "        data:pd.DataFrame, \n",
    "        response_name:str, \n",
    "        chat_session:genai.ChatSession,\n",
    "        request_interval:int=6\n",
    "        ) -> None:\n",
    "    global former_data\n",
    "    for i in tqdm(range(0, len(data))):\n",
    "        if data.values[i] == former_data:\n",
    "            logger.debug(f\"Skipped: {data.values[i]}\")\n",
    "            data.values[i] = data.values[i-1]\n",
    "            continue\n",
    "        input_prompt = prompt + data.values[i]\n",
    "        former_data = data.values[i]\n",
    "        try:\n",
    "            response = chat_session.send_message(input_prompt)\n",
    "            temp = response.text\n",
    "            if \"```json\" in temp:\n",
    "                temp = temp.replace(\"```json\", \"\")\n",
    "                temp = temp.replace(\"```\", \"\")\n",
    "            res = json.loads(temp)\n",
    "            logger.debug(temp)\n",
    "        except Exception as e:\n",
    "            logger.error(\"Error\", e, temp)\n",
    "            continue\n",
    "        output_text = \"\"\n",
    "        if isinstance(res[response_name], list):\n",
    "            for text in res[response_name]:\n",
    "                output_text += text + \" \"\n",
    "        else:\n",
    "            output_text = res[response_name]\n",
    "        logger.debug(f\"Output: {output_text}\")\n",
    "        data.values[i] = output_text\n",
    "        time.sleep(request_interval)"
   ]
  },
  {
   "cell_type": "code",
   "execution_count": 7,
   "metadata": {},
   "outputs": [],
   "source": [
    "import settings as st\n",
    "\n",
    "output_dir = create_dir()"
   ]
  },
  {
   "cell_type": "code",
   "execution_count": 8,
   "metadata": {},
   "outputs": [],
   "source": [
    "def processor(product:str)->None:\n",
    "    data = pd.read_csv(f\"data/output/gemini/prompt_data/{product}.csv\", encoding=\"utf-8-sig\")\n",
    "    generate_json_response(\n",
    "        prompt=prompt_cause_of_the_incident, \n",
    "        data=data[\"事故原因\"], \n",
    "        response_name=\"原因\", \n",
    "        chat_session=chat_session\n",
    "        )\n",
    "    print(data.head())\n",
    "    data = data.drop(columns=[\"事故通知内容\"])\n",
    "    data.to_csv(f\"{output_dir}/{product}_res.csv\", encoding=\"utf-8-sig\", index=False)"
   ]
  },
  {
   "cell_type": "code",
   "execution_count": 9,
   "metadata": {},
   "outputs": [
    {
     "data": {
      "application/vnd.jupyter.widget-view+json": {
       "model_id": "dc8db1f2f1fd496d9af5fc0729067645",
       "version_major": 2,
       "version_minor": 0
      },
      "text/plain": [
       "  0%|          | 0/170 [00:00<?, ?it/s]"
      ]
     },
     "metadata": {},
     "output_type": "display_data"
    },
    {
     "name": "stdout",
     "output_type": "stream",
     "text": [
      "     No                                             事故通知内容          事故原因\n",
      "0   584  当該オーブントースターで魚のホイル焼きをしていると、本体が異常に熱くなったのに気付き、電源プ...     設定 温度 耐熱 \n",
      "1  1502                  オーブントースターを使用中、上部ヒーター付近の金属板から発火した。      餅 過熱 付着 \n",
      "2  1975  オープントースターで食パンを焼いていたら、パンに火がつき、炎が本体扉の隙間から外へ10センチ...  タイマー 誤設定 過熱 \n",
      "3  3852           使用中の電気オーブントースターから出火し、周辺を焼損した。(事故発生地:兵庫県)  油 落下 過熱 トレー \n",
      "4  4017       ネット通販で購入したオーブントースターを使用中、庫内から火が出た。(事故発生地:埼玉県)  油脂 堆積 過熱 汚れ \n"
     ]
    },
    {
     "data": {
      "application/vnd.jupyter.widget-view+json": {
       "model_id": "767311f4ade64dbf9b33405c6fb3e294",
       "version_major": 2,
       "version_minor": 0
      },
      "text/plain": [
       "  0%|          | 0/341 [00:00<?, ?it/s]"
      ]
     },
     "metadata": {},
     "output_type": "display_data"
    },
    {
     "name": "stdout",
     "output_type": "stream",
     "text": [
      "   No                                      事故通知内容                      事故原因\n",
      "0  94  おもちゃのパトカーに使用していたアルカリ乾電池が液漏れし、タオルケット等に付着した。  プラスチックシール 傾き ストレス 割れ 漏液 \n",
      "1  95             使用していた乾電池(アルカリ)の液漏れにより、玩具を汚損した。  プラスチックシール 傾き ストレス 割れ 漏液 \n",
      "2  96             時計に使用していたアルカリ乾電池が液漏れし、ケースに付着した。  プラスチックシール 傾き ストレス 割れ 漏液 \n",
      "3  97       使用していた乾電池(アルカリ)の液漏れにより、リモコンが使用不能となった。  プラスチックシール 傾き ストレス 割れ 漏液 \n",
      "4  98    カメラに使用していた乾電池(アルカリ)の液漏れにより、カメラが使用不能になった。  プラスチックシール 傾き ストレス 割れ 漏液 \n"
     ]
    },
    {
     "data": {
      "application/vnd.jupyter.widget-view+json": {
       "model_id": "c14e6cb9f0bb4ba38b8c5cf4bdb235a3",
       "version_major": 2,
       "version_minor": 0
      },
      "text/plain": [
       "  0%|          | 0/247 [00:00<?, ?it/s]"
      ]
     },
     "metadata": {},
     "output_type": "display_data"
    },
    {
     "name": "stdout",
     "output_type": "stream",
     "text": [
      "    No                                             事故通知内容  \\\n",
      "0   67  耐火構造4階建て住宅の2階で、居室のタンスの上で使用していた扇風機付近から出火し、壁、タンス...   \n",
      "1   82  2階から異臭がするので確認したところ、扇風機が焼損し床、窓枠下部や壁装クロスの一部が焦げてい...   \n",
      "2  430  扇風機を使い始めてしばらくして異常に気付き、スイッチを切った。その際、手を火傷したため台所で...   \n",
      "3  468  扇風機の上下風向きを変えようと、ガードの上部を持ったところ中指が回転中の羽根に当たり、擦り傷...   \n",
      "4  469  台所の足元で使っていた扇風機の首振りボタンを人差し指で押そうとしたところ、親指が後部のガード...   \n",
      "\n",
      "                              事故原因  \n",
      "0                配線 断線 スパーク 発火 短絡   \n",
      "1  ケーブル 芯線 撚り合わせ 屈曲 断線 スパーク 難燃性材料   \n",
      "2        巻線 過電流 ピンホール 短絡 発熱 被覆 発火   \n",
      "3             首振り 調整 ガード 隙間 羽根 接触   \n",
      "4          背面ガード 針金 羽根 接触 無理な姿勢 指   \n"
     ]
    },
    {
     "data": {
      "application/vnd.jupyter.widget-view+json": {
       "model_id": "20e94d74c4f64a098ceb8463b5761bb2",
       "version_major": 2,
       "version_minor": 0
      },
      "text/plain": [
       "  0%|          | 0/164 [00:00<?, ?it/s]"
      ]
     },
     "metadata": {},
     "output_type": "display_data"
    },
    {
     "name": "stdout",
     "output_type": "stream",
     "text": [
      "    No                                             事故通知内容  \\\n",
      "0  272  父親が筒状の手持ち花火に火をつけたところ、反対側の持ち手側後方から火が出て、花火を持っていた...   \n",
      "1  273  レーザーポインターのレーザー光を1~2秒間目に当てられた。翌日、目に激しい痛みを感じ、眼科で...   \n",
      "2  479  チューブ状の化学発光体を子供が噛んで、内容物が口の中に漏れ出し、その刺激で破損したチューブを...   \n",
      "3  494  吹き出し花火を添付の線香で点火しようとしたところ、なかなか点火しなかったが、突然火が出て右手...   \n",
      "4  580  男児2人が部屋の中で遊んでいた際、1人の男児がエアガンを空撃ちしたとき、先端部の部品が飛び、...   \n",
      "\n",
      "                           事故原因  \n",
      "0                火薬 薬筒 漏れ 火 紙筒   \n",
      "1                  レーザー光線 照射 目   \n",
      "2              注意表示 不十分 過酸化水素水   \n",
      "3             薬筒 着火 吸湿 火 接触 火傷   \n",
      "4  発射口 安全キャップ 安全装置 引き金 発射 エアガン   \n"
     ]
    },
    {
     "data": {
      "application/vnd.jupyter.widget-view+json": {
       "model_id": "f5354fb2b0114c03bf7a56d7e6556f53",
       "version_major": 2,
       "version_minor": 0
      },
      "text/plain": [
       "  0%|          | 0/171 [00:00<?, ?it/s]"
      ]
     },
     "metadata": {},
     "output_type": "display_data"
    },
    {
     "name": "stdout",
     "output_type": "stream",
     "text": [
      "    No                                             事故通知内容                事故原因\n",
      "0   43  1年前に購入した脚立(園芸用三脚)に登ろうとしたところ、突然1脚側支柱が折れ、脚立が倒れたた...   バランス 転倒 荷重 支柱 破損 \n",
      "1   45  脚立(園芸用三脚)の中段にのって自宅壁の塗装補修作業中、突然片側支柱が曲がって、脚立が倒れた...   支柱 軟弱 地面 転倒 バランス \n",
      "2  116  庭木のせん定に使用する3本足の脚立に乗り、軒先に吊してあったすだれを外そうとしたとき、突然転...   バランス 転倒 応力 支柱 折損 \n",
      "3  333  配線作業のため、天板をまたいで天板直下の踏みざんに乗って作業中、突然支柱が内側に曲がったため...  バランス 転倒 支柱 接触 曲がり \n",
      "4  569  脚立の天板をまたぐように下から3段目の踏みざんに乗って作業をしていたところ、突然、両脚が曲が...  バランス 転倒 落下 支柱 曲がり \n"
     ]
    },
    {
     "data": {
      "application/vnd.jupyter.widget-view+json": {
       "model_id": "c036d2be62e8408eab580e92896fb658",
       "version_major": 2,
       "version_minor": 0
      },
      "text/plain": [
       "  0%|          | 0/53 [00:00<?, ?it/s]"
      ]
     },
     "metadata": {},
     "output_type": "display_data"
    },
    {
     "name": "stderr",
     "output_type": "stream",
     "text": [
      "--- Logging error ---\n",
      "Traceback (most recent call last):\n",
      "  File \"C:\\Users\\chika\\AppData\\Local\\Temp\\ipykernel_22912\\325136422.py\", line 17, in generate_json_response\n",
      "    response = chat_session.send_message(input_prompt)\n",
      "               ^^^^^^^^^^^^^^^^^^^^^^^^^^^^^^^^^^^^^^^\n",
      "  File \"c:\\Users\\chika\\Documents\\VSCode\\research-utils\\.venv\\Lib\\site-packages\\google\\generativeai\\generative_models.py\", line 578, in send_message\n",
      "    response = self.model.generate_content(\n",
      "               ^^^^^^^^^^^^^^^^^^^^^^^^^^^^\n",
      "  File \"c:\\Users\\chika\\Documents\\VSCode\\research-utils\\.venv\\Lib\\site-packages\\google\\generativeai\\generative_models.py\", line 331, in generate_content\n",
      "    response = self._client.generate_content(\n",
      "               ^^^^^^^^^^^^^^^^^^^^^^^^^^^^^^\n",
      "  File \"c:\\Users\\chika\\Documents\\VSCode\\research-utils\\.venv\\Lib\\site-packages\\google\\ai\\generativelanguage_v1beta\\services\\generative_service\\client.py\", line 830, in generate_content\n",
      "    response = rpc(\n",
      "               ^^^^\n",
      "  File \"c:\\Users\\chika\\Documents\\VSCode\\research-utils\\.venv\\Lib\\site-packages\\google\\api_core\\gapic_v1\\method.py\", line 131, in __call__\n",
      "    return wrapped_func(*args, **kwargs)\n",
      "           ^^^^^^^^^^^^^^^^^^^^^^^^^^^^^\n",
      "  File \"c:\\Users\\chika\\Documents\\VSCode\\research-utils\\.venv\\Lib\\site-packages\\google\\api_core\\retry\\retry_unary.py\", line 293, in retry_wrapped_func\n",
      "    return retry_target(\n",
      "           ^^^^^^^^^^^^^\n",
      "  File \"c:\\Users\\chika\\Documents\\VSCode\\research-utils\\.venv\\Lib\\site-packages\\google\\api_core\\retry\\retry_unary.py\", line 153, in retry_target\n",
      "    _retry_error_helper(\n",
      "  File \"c:\\Users\\chika\\Documents\\VSCode\\research-utils\\.venv\\Lib\\site-packages\\google\\api_core\\retry\\retry_base.py\", line 212, in _retry_error_helper\n",
      "    raise final_exc from source_exc\n",
      "  File \"c:\\Users\\chika\\Documents\\VSCode\\research-utils\\.venv\\Lib\\site-packages\\google\\api_core\\retry\\retry_unary.py\", line 144, in retry_target\n",
      "    result = target()\n",
      "             ^^^^^^^^\n",
      "  File \"c:\\Users\\chika\\Documents\\VSCode\\research-utils\\.venv\\Lib\\site-packages\\google\\api_core\\timeout.py\", line 120, in func_with_timeout\n",
      "    return func(*args, **kwargs)\n",
      "           ^^^^^^^^^^^^^^^^^^^^^\n",
      "  File \"c:\\Users\\chika\\Documents\\VSCode\\research-utils\\.venv\\Lib\\site-packages\\google\\api_core\\grpc_helpers.py\", line 78, in error_remapped_callable\n",
      "    raise exceptions.from_grpc_error(exc) from exc\n",
      "google.api_core.exceptions.InternalServerError: 500 Exception serializing request!\n",
      "\n",
      "During handling of the above exception, another exception occurred:\n",
      "\n",
      "Traceback (most recent call last):\n",
      "  File \"c:\\Users\\chika\\anaconda3\\Lib\\logging\\__init__.py\", line 1160, in emit\n",
      "    msg = self.format(record)\n",
      "          ^^^^^^^^^^^^^^^^^^^\n",
      "  File \"c:\\Users\\chika\\anaconda3\\Lib\\logging\\__init__.py\", line 999, in format\n",
      "    return fmt.format(record)\n",
      "           ^^^^^^^^^^^^^^^^^^\n",
      "  File \"c:\\Users\\chika\\anaconda3\\Lib\\logging\\__init__.py\", line 703, in format\n",
      "    record.message = record.getMessage()\n",
      "                     ^^^^^^^^^^^^^^^^^^^\n",
      "  File \"c:\\Users\\chika\\anaconda3\\Lib\\logging\\__init__.py\", line 392, in getMessage\n",
      "    msg = msg % self.args\n",
      "          ~~~~^~~~~~~~~~~\n",
      "TypeError: not all arguments converted during string formatting\n",
      "Call stack:\n",
      "  File \"<frozen runpy>\", line 198, in _run_module_as_main\n",
      "  File \"<frozen runpy>\", line 88, in _run_code\n",
      "  File \"c:\\Users\\chika\\Documents\\VSCode\\research-utils\\.venv\\Lib\\site-packages\\ipykernel_launcher.py\", line 18, in <module>\n",
      "    app.launch_new_instance()\n",
      "  File \"c:\\Users\\chika\\Documents\\VSCode\\research-utils\\.venv\\Lib\\site-packages\\traitlets\\config\\application.py\", line 1075, in launch_instance\n",
      "    app.start()\n",
      "  File \"c:\\Users\\chika\\Documents\\VSCode\\research-utils\\.venv\\Lib\\site-packages\\ipykernel\\kernelapp.py\", line 739, in start\n",
      "    self.io_loop.start()\n",
      "  File \"c:\\Users\\chika\\Documents\\VSCode\\research-utils\\.venv\\Lib\\site-packages\\tornado\\platform\\asyncio.py\", line 205, in start\n",
      "    self.asyncio_loop.run_forever()\n",
      "  File \"c:\\Users\\chika\\anaconda3\\Lib\\asyncio\\base_events.py\", line 641, in run_forever\n",
      "    self._run_once()\n",
      "  File \"c:\\Users\\chika\\anaconda3\\Lib\\asyncio\\base_events.py\", line 1986, in _run_once\n",
      "    handle._run()\n",
      "  File \"c:\\Users\\chika\\anaconda3\\Lib\\asyncio\\events.py\", line 88, in _run\n",
      "    self._context.run(self._callback, *self._args)\n",
      "  File \"c:\\Users\\chika\\Documents\\VSCode\\research-utils\\.venv\\Lib\\site-packages\\ipykernel\\kernelbase.py\", line 545, in dispatch_queue\n",
      "    await self.process_one()\n",
      "  File \"c:\\Users\\chika\\Documents\\VSCode\\research-utils\\.venv\\Lib\\site-packages\\ipykernel\\kernelbase.py\", line 534, in process_one\n",
      "    await dispatch(*args)\n",
      "  File \"c:\\Users\\chika\\Documents\\VSCode\\research-utils\\.venv\\Lib\\site-packages\\ipykernel\\kernelbase.py\", line 437, in dispatch_shell\n",
      "    await result\n",
      "  File \"c:\\Users\\chika\\Documents\\VSCode\\research-utils\\.venv\\Lib\\site-packages\\ipykernel\\ipkernel.py\", line 362, in execute_request\n",
      "    await super().execute_request(stream, ident, parent)\n",
      "  File \"c:\\Users\\chika\\Documents\\VSCode\\research-utils\\.venv\\Lib\\site-packages\\ipykernel\\kernelbase.py\", line 778, in execute_request\n",
      "    reply_content = await reply_content\n",
      "  File \"c:\\Users\\chika\\Documents\\VSCode\\research-utils\\.venv\\Lib\\site-packages\\ipykernel\\ipkernel.py\", line 449, in do_execute\n",
      "    res = shell.run_cell(\n",
      "  File \"c:\\Users\\chika\\Documents\\VSCode\\research-utils\\.venv\\Lib\\site-packages\\ipykernel\\zmqshell.py\", line 549, in run_cell\n",
      "    return super().run_cell(*args, **kwargs)\n",
      "  File \"c:\\Users\\chika\\Documents\\VSCode\\research-utils\\.venv\\Lib\\site-packages\\IPython\\core\\interactiveshell.py\", line 3075, in run_cell\n",
      "    result = self._run_cell(\n",
      "  File \"c:\\Users\\chika\\Documents\\VSCode\\research-utils\\.venv\\Lib\\site-packages\\IPython\\core\\interactiveshell.py\", line 3130, in _run_cell\n",
      "    result = runner(coro)\n",
      "  File \"c:\\Users\\chika\\Documents\\VSCode\\research-utils\\.venv\\Lib\\site-packages\\IPython\\core\\async_helpers.py\", line 128, in _pseudo_sync_runner\n",
      "    coro.send(None)\n",
      "  File \"c:\\Users\\chika\\Documents\\VSCode\\research-utils\\.venv\\Lib\\site-packages\\IPython\\core\\interactiveshell.py\", line 3334, in run_cell_async\n",
      "    has_raised = await self.run_ast_nodes(code_ast.body, cell_name,\n",
      "  File \"c:\\Users\\chika\\Documents\\VSCode\\research-utils\\.venv\\Lib\\site-packages\\IPython\\core\\interactiveshell.py\", line 3517, in run_ast_nodes\n",
      "    if await self.run_code(code, result, async_=asy):\n",
      "  File \"c:\\Users\\chika\\Documents\\VSCode\\research-utils\\.venv\\Lib\\site-packages\\IPython\\core\\interactiveshell.py\", line 3577, in run_code\n",
      "    exec(code_obj, self.user_global_ns, self.user_ns)\n",
      "  File \"C:\\Users\\chika\\AppData\\Local\\Temp\\ipykernel_22912\\3143282008.py\", line 2, in <module>\n",
      "    processor(product)\n",
      "  File \"C:\\Users\\chika\\AppData\\Local\\Temp\\ipykernel_22912\\3900160524.py\", line 3, in processor\n",
      "    generate_json_response(\n",
      "  File \"C:\\Users\\chika\\AppData\\Local\\Temp\\ipykernel_22912\\325136422.py\", line 25, in generate_json_response\n",
      "    logger.error(\"Error\", e, temp)\n",
      "Message: 'Error'\n",
      "Arguments: (InternalServerError('Exception serializing request!'), '{\\n  \"原因\": [\"用紙投入口\", \"小冊子\", \"押し込み\", \"接触\"]\\n}\\n')\n"
     ]
    },
    {
     "name": "stdout",
     "output_type": "stream",
     "text": [
      "     No                                             事故通知内容  \\\n",
      "0  1043            事務所で当該製品で細断中、左手指が巻き込まれ、負傷した。(事故発生地:東京都)   \n",
      "1  1640  可燃性ガスを含む潤滑剤スプレーを使用して当該製品を整備中、当該製品を焼損する火災が発生した。...   \n",
      "2  2410  当該製品でCD(コンパクトディスク)を細断中、CD中央部の穴に入れていた指を穴から抜く際に、...   \n",
      "3  2487  当該製品の細断部のみを本体から外して使用し、紙詰まりをそのままにしていたところ、当該製品の細...   \n",
      "4  2693  当該製品にエアゾール缶のガスを吹き付け清掃を行い、その後、当該製品を使用したところ、当該製品...   \n",
      "\n",
      "                                                事故原因  \n",
      "0                                 用紙投入口 小冊子 押し込み 接触   \n",
      "1  ○当該製品に焼損等の異常は認められず、正常に動作した。○紙投入口に付着した液体から、可燃性ガ...  \n",
      "2                                 CD 穴 指 挟まる 裁断 投入口   \n",
      "3                               エアースプレー 火花 引火 分解 改造   \n",
      "4                                 エアゾール 可燃性ガス 引火 火花   \n"
     ]
    }
   ],
   "source": [
    "for product in st.products_250115:\n",
    "    processor(product)"
   ]
  }
 ],
 "metadata": {
  "kernelspec": {
   "display_name": ".venv",
   "language": "python",
   "name": "python3"
  },
  "language_info": {
   "codemirror_mode": {
    "name": "ipython",
    "version": 3
   },
   "file_extension": ".py",
   "mimetype": "text/x-python",
   "name": "python",
   "nbconvert_exporter": "python",
   "pygments_lexer": "ipython3",
   "version": "3.12.7"
  }
 },
 "nbformat": 4,
 "nbformat_minor": 2
}
